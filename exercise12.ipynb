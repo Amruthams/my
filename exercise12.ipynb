{
 "cells": [
  {
   "cell_type": "code",
   "execution_count": 3,
   "metadata": {},
   "outputs": [
    {
     "name": "stdout",
     "output_type": "stream",
     "text": [
      "ENTER LENGTH OF FIRST RECTANGLE:8\n",
      "ENTER BREADTH OF FIRST RECTANGLE: 5\n",
      "ENTER LENGTH OF SECOND RECTANGLE:10\n",
      "ENTER BREADTH OF SECOND RECTANGLE:8\n",
      "PERIMETER OF FIRST:  26\n",
      "PERIMETER OF SECOND:  36\n",
      "SECOND RECTANGLE IS LARGER IN AREA AND THE DIFFERENCE IS, 40\n"
     ]
    }
   ],
   "source": [
    "#area of rectangle using class and object\n",
    "class Rectangle:\n",
    "    def area(self,l,b):\n",
    "        return l*b\n",
    "    def pmtr(self,l,b):\n",
    "        return (l+b)*2\n",
    "r1=Rectangle()\n",
    "r2=Rectangle()\n",
    "\n",
    "l1=int(input(\"ENTER LENGTH OF FIRST RECTANGLE:\" ))\n",
    "b1=int(input(\"ENTER BREADTH OF FIRST RECTANGLE: \"))\n",
    "l2=int(input(\"ENTER LENGTH OF SECOND RECTANGLE:\" ))\n",
    "b2=int(input(\"ENTER BREADTH OF SECOND RECTANGLE:\" ))\n",
    "\n",
    "print(\"PERIMETER OF FIRST: \",r1.pmtr(l1,b1))\n",
    "print(\"PERIMETER OF SECOND: \",r1.pmtr(l2,b2))\n",
    "\n",
    "a1=r1.area(l1,b1)\n",
    "a2=r2.area(l2,b2)\n",
    "if a1>a2:\n",
    "    print(\"FIRST RECTANGLE IS LARGER IN AREA AND THE DIFFERENCE IS,\",(a1-a2))\n",
    "else:\n",
    "    print(\"SECOND RECTANGLE IS LARGER IN AREA AND THE DIFFERENCE IS,\",(a2-a1))"
   ]
  },
  {
   "cell_type": "code",
   "execution_count": 5,
   "metadata": {},
   "outputs": [
    {
     "name": "stdout",
     "output_type": "stream",
     "text": [
      "Enter name: Amrutha\n",
      "Enter roll no: 5\n",
      "Enter cls: 12\n",
      "ROLL NO,NAME,CLASS=>  5 , Amrutha , 12\n"
     ]
    }
   ],
   "source": [
    "#details of student using constructor\n",
    "class student:\n",
    "    def __init__(self,r,n,c):\n",
    "        self.rno=r\n",
    "        self.name=n\n",
    "        self.cls=c\n",
    "    def disp(self):\n",
    "        print(\"ROLL NO,NAME,CLASS=> \",self.rno,\",\",self.name,\",\",self.cls)\n",
    "nm=input(\"Enter name: \")\n",
    "rn=int(input(\"Enter roll no: \"))\n",
    "cl=int(input(\"Enter cls: \"))\n",
    "stud=student(rn,nm,cl)\n",
    "stud.disp()\n"
   ]
  },
  {
   "cell_type": "code",
   "execution_count": 9,
   "metadata": {},
   "outputs": [
    {
     "name": "stdout",
     "output_type": "stream",
     "text": [
      "Enter account number: 23456\n",
      "Enter name: amrtha\n",
      "Enter account type: savings\n",
      "Enter first deposit(min-500):5000\n",
      "If you want to withdraw press 1 ,deposite press 2 ,unless any key.1\n",
      "Enter amount to debit..2500\n",
      "SUCCESSFULLY DEBITED...,Your current balance is  2500\n",
      "If you want to withdraw press 1 ,deposite press 2 ,unless any key.2\n",
      "Enter amount to deposite..10000\n",
      "SUCCESSFULLY DEPOSITED...,Your current balance is  12500\n",
      "If you want to withdraw press 1 ,deposite press 2 ,unless any key.3\n",
      "Thank you come again...\n"
     ]
    }
   ],
   "source": [
    "#bank account,deposit,debit\n",
    "class bankaccount:\n",
    "    def __init__(self,accno,name,typ,bal):\n",
    "        self.accnum=accno\n",
    "        self.nm=name\n",
    "        self.ty=typ\n",
    "        self.ba=bal\n",
    "    def deposit(self,debamnt):\n",
    "        self.ba=self.ba+debamnt\n",
    "        print(\"SUCCESSFULLY DEPOSITED...,Your current balance is \",self.ba)\n",
    "    def withdraw(self,withamnt):\n",
    "        self.ba=self.ba-withamnt\n",
    "        print(\"SUCCESSFULLY DEBITED...,Your current balance is \",self.ba)\n",
    "        \n",
    "acno=int(input(\"Enter account number: \"))\n",
    "nam=input(\"Enter name: \")\n",
    "typ=input(\"Enter account type: \")\n",
    "bala=int(input(\"Enter first deposit(min-500):\"))\n",
    "p1=bankaccount(acno,nam,typ,bala)\n",
    "\n",
    "while(1):\n",
    "    \n",
    "    ch=int(input(\"If you want to withdraw press 1 ,deposite press 2 ,unless any key.\"))\n",
    "    if ch==1:\n",
    "        wamount=int(input(\"Enter amount to debit..\"))\n",
    "        if p1.ba<wamount+500:\n",
    "            print(\"sorry You dont have enough balance to debit...\")\n",
    "        else:\n",
    "            p1.withdraw(wamount)\n",
    "    elif ch==2:\n",
    "        damount=int(input(\"Enter amount to deposite..\"))\n",
    "        p1.deposit(damount)\n",
    "    else:\n",
    "        print(\"Thank you come again...\")\n",
    "        break;\n",
    "                 "
   ]
  },
  {
   "cell_type": "code",
   "execution_count": 7,
   "metadata": {},
   "outputs": [
    {
     "name": "stdout",
     "output_type": "stream",
     "text": [
      "Enter publisher name:amrtha\n",
      "Enter book name: hello\n",
      "Enter author name: jarvis\n",
      "Enter rate of book:300\n",
      "Enter number of pages:1000\n",
      "Publisher name= amrtha\n",
      "Title= hello\n",
      "Author= jarvis\n",
      "Rate= 300\n",
      "Number of pages= 1000\n"
     ]
    }
   ],
   "source": [
    "#publisher,book,title,author\n",
    "class publisher:\n",
    "    def __init__(self,pname):\n",
    "        self.pubname=pname\n",
    "    def dis(self):\n",
    "        print(\"Publisher name=\",self.pubname)\n",
    "        \n",
    "class book(publisher):\n",
    "    def __init__(self,pname,bname,author):\n",
    "        self.title=bname\n",
    "        self.auth=author\n",
    "        publisher.__init__(self,pname)\n",
    "    def display(self):\n",
    "        print(\"Title=\",self.title)\n",
    "        print(\"Author=\",self.auth)\n",
    "        \n",
    "class python(book):\n",
    "    def __init__(self,pname,titl,au,price,np):\n",
    "        self.rate=price\n",
    "        self.nop=np\n",
    "        book.__init__(self,pname,titl,au)\n",
    "    def disp(self):\n",
    "        print(\"Rate=\",self.rate)\n",
    "        print(\"Number of pages=\",self.nop)\n",
    "        \n",
    "p=input(\"Enter publisher name:\")\n",
    "bk=input(\"Enter book name: \")\n",
    "author=input(\"Enter author name: \")\n",
    "rt=int(input(\"Enter rate of book:\"))\n",
    "nup=int(input(\"Enter number of pages:\"))\n",
    "a=python(p,bk,author,rt,nup)\n",
    "a.dis()\n",
    "a.display()\n",
    "a.disp()"
   ]
  },
  {
   "cell_type": "code",
   "execution_count": 9,
   "metadata": {},
   "outputs": [
    {
     "name": "stdout",
     "output_type": "stream",
     "text": [
      "Enter length of 1st rectangle:4\n",
      "Enter breadth of 1st rectangle: 5\n",
      "Enter length of 2nd rectangle:4\n",
      "Enter breadth of 2nd rectangle:2\n",
      "First is larger\n"
     ]
    }
   ],
   "source": [
    "#example of operator overloading \">\"\n",
    "class Rectangle:\n",
    "    def __init__(self,l,b):\n",
    "        self.a=l*b\n",
    "        \n",
    "    def __gt__(self,other):\n",
    "        if self.a>other.a:\n",
    "            print(\"First is larger\")\n",
    "        else:\n",
    "            print(\"Second is larger\")\n",
    "\n",
    "l1=int(input(\"Enter length of 1st rectangle:\" ))\n",
    "b1=int(input(\"Enter breadth of 1st rectangle: \"))\n",
    "l2=int(input(\"Enter length of 2nd rectangle:\" ))\n",
    "b2=int(input(\"Enter breadth of 2nd rectangle:\" ))\n",
    "r1=Rectangle(l1,b1)\n",
    "r2=Rectangle(l2,b2)\n",
    "r1>r2\n",
    "\n",
    "\n",
    "\n"
   ]
  },
  {
   "cell_type": "code",
   "execution_count": null,
   "metadata": {
    "collapsed": true
   },
   "outputs": [],
   "source": []
  }
 ],
 "metadata": {
  "kernelspec": {
   "display_name": "Python 3",
   "language": "python",
   "name": "python3"
  },
  "language_info": {
   "codemirror_mode": {
    "name": "ipython",
    "version": 3
   },
   "file_extension": ".py",
   "mimetype": "text/x-python",
   "name": "python",
   "nbconvert_exporter": "python",
   "pygments_lexer": "ipython3",
   "version": "3.6.3"
  }
 },
 "nbformat": 4,
 "nbformat_minor": 2
}
