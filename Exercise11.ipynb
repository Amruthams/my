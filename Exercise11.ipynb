{
 "cells": [
  {
   "cell_type": "code",
   "execution_count": 2,
   "metadata": {},
   "outputs": [
    {
     "name": "stdout",
     "output_type": "stream",
     "text": [
      "Enter the source file to be copied:myfile.txt\n",
      "Enter the destination file name:newfile.txt\n",
      "File Copied\n"
     ]
    }
   ],
   "source": [
    "#program to copy a text file to another file\n",
    "file1=input(\"Enter the source file to be copied:\")\n",
    "file2=input(\"Enter the destination file name:\")\n",
    "fr=open(file1,\"r\")\n",
    "fw=open(file2,\"w\")\n",
    "for line in fr.readlines():\n",
    "    fw.write(line)\n",
    "fr.close()\n",
    "fw.close()\n",
    "print(\"File Copied\")\n"
   ]
  },
  {
   "cell_type": "code",
   "execution_count": 1,
   "metadata": {},
   "outputs": [
    {
     "name": "stdout",
     "output_type": "stream",
     "text": [
      "Enter the source file to be copied:append1.txt\n",
      "Enter the destination file name:append2.txt\n",
      "File appended\n"
     ]
    }
   ],
   "source": [
    "#a program to append a file with the contents of another file.\n",
    "file1=input(\"Enter the source file to be append:\")\n",
    "file2=input(\"Enter the destination file name:\")\n",
    "fr=open(file1,\"r\")\n",
    "fw=open(file2,\"a\")\n",
    "for line in fr.readlines():\n",
    "    fw.write(line)\n",
    "fr.close()\n",
    "fw.close()\n",
    "print(\"File appended\")\n"
   ]
  },
  {
   "cell_type": "code",
   "execution_count": null,
   "metadata": {
    "collapsed": true
   },
   "outputs": [],
   "source": []
  }
 ],
 "metadata": {
  "kernelspec": {
   "display_name": "Python 3",
   "language": "python",
   "name": "python3"
  },
  "language_info": {
   "codemirror_mode": {
    "name": "ipython",
    "version": 3
   },
   "file_extension": ".py",
   "mimetype": "text/x-python",
   "name": "python",
   "nbconvert_exporter": "python",
   "pygments_lexer": "ipython3",
   "version": "3.6.3"
  }
 },
 "nbformat": 4,
 "nbformat_minor": 2
}
